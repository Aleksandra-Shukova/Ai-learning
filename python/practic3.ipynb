{
  "nbformat": 4,
  "nbformat_minor": 0,
  "metadata": {
    "colab": {
      "provenance": [],
      "authorship_tag": "ABX9TyOBKDjxQ6nHE93cmAvfLuDH",
      "include_colab_link": true
    },
    "kernelspec": {
      "name": "python3",
      "display_name": "Python 3"
    },
    "language_info": {
      "name": "python"
    }
  },
  "cells": [
    {
      "cell_type": "markdown",
      "metadata": {
        "id": "view-in-github",
        "colab_type": "text"
      },
      "source": [
        "<a href=\"https://colab.research.google.com/github/Aleksandra-Shukova/Ai-learning/blob/main/python/practic3.ipynb\" target=\"_parent\"><img src=\"https://colab.research.google.com/assets/colab-badge.svg\" alt=\"Open In Colab\"/></a>"
      ]
    },
    {
      "cell_type": "markdown",
      "source": [
        "Ещё нужно этот класс\n",
        "- описать по ссылке в uml\n",
        " - сделаю к заданию4\n",
        "- Привязать моделирование к tkinter\n",
        " - нет возможности экспериментировать с оконным приложением в colab.\n",
        "- сделать тестирование\n",
        " - на каникулах, когда закрою сессию"
      ],
      "metadata": {
        "id": "1Nt2zuLsMc1M"
      }
    },
    {
      "cell_type": "markdown",
      "source": [
        "Пз 3 моделирование тела брошенного под углом к горизонту\n",
        "Я взял вариант по вертикали.\n",
        "\n",
        "**Корректировки задания**\n",
        "\n",
        "Внутри класса описан вывод list, но для удобства вывода я его заменил на f-строку\n",
        "Ускорение я не считал, не выводил. Я про него забыл, но для задачи его вывод непринципиален."
      ],
      "metadata": {
        "id": "jpMo1h4e3LcO"
      }
    },
    {
      "cell_type": "markdown",
      "source": [
        "Ai learning\n",
        " - python\n",
        "  - pz3\n",
        "\n",
        "ПЗ3:  Разработать программу, которая будет моделировать:\n",
        "- Вариант 1 (взлет с луны)\n",
        "Разработать программу для моделирования полета брошенного в вертикально вверх со скоростью v робота массой m. При\n",
        "соударении с землей робот прилипает к поверхности.\n",
        "- Вариант 2 (перелет с места на место)\n",
        "Разработать программу для моделирования полета брошенного с со скоростью vy (вертикальная составляющая) и vx\n",
        "(горизонтальная составляющая) робота массой m.\n",
        "При соударении с землей шарик прилипает\n",
        "\n",
        "\n",
        "Программа должна иметь функции:\n",
        "- Вычисления положения (h) и параметров движения робота (vx, vy, ax, ay) через заданный промежуток времени\n",
        "- Позволять записывать параметры движения робота и метку времени в список List\n",
        "- Печатать на экран информацию о траектории движения шарика за заданный промежуток времени"
      ],
      "metadata": {
        "id": "PenyFgSx1OsK"
      }
    },
    {
      "cell_type": "code",
      "source": [
        "class myRobot4: # Вариант 1\n",
        "    def __init__(self, speed, gravity=9.8, mass=1):\n",
        "        '''Comments special for Knkn:\n",
        "        Функция инициализации объекта класса Robot\n",
        "        здесь не нужна начальная скорость ,\n",
        "        поскольку вычисление координат не зависит явно от v0 (initial speed)\n",
        "        self.thrust      #thrust of own engine of robot\n",
        "        self.speed       #speed of robot\n",
        "        self.height      #height of robot\n",
        "        self.mass        #mass of robot\n",
        "'''\n",
        "        self.thrust = 0\n",
        "        self.g = gravity\n",
        "        self.timer = 0\n",
        "        self.height = 0\n",
        "        self.speed = speed\n",
        "        self.mass = mass\n",
        "        self.crash = False\n",
        "\n",
        "\n",
        "    def set_engine(self, thrust=0):\n",
        "        '''Устанавливает значение тяги двигателя\n",
        "        противодействует силе тяжести\n",
        "        эта функция должна вызываться при нажатии клавиши\n",
        "'''\n",
        "        self.thrust = thrust\n",
        "    def engine_on_off(self):\n",
        "        '''включает и выключает двигатель при нажатии на кнопку,\n",
        "        требуется написать, слушать клавиатуру...\n",
        "        Не принимает параметры, не возвращает.\n",
        "'''\n",
        "        pass\n",
        "    def set(self, dt):\n",
        "        '''Вычисляет текущее положение робота\n",
        "        принимает значение частоты обновления экрана\n",
        "        будет работать во время обновления экрана в бесконечном цикле\n",
        "\n",
        "'''\n",
        "        g = self.g\n",
        "        self.timer += dt\n",
        "        self.height = max(self.height + self.speed *dt - (g-self.thrust)*dt**2/2, 0)\n",
        "        if self.height > 0 :\n",
        "            self.speed = self.speed - (g-self.thrust)*dt\n",
        "        else:\n",
        "            self.speed = 0\n",
        "            self.crash = True\n",
        "        data_string = f\"timer = {self.timer:5.2f} speed = {(self.speed):6.1f} height = {self.height:6.1f}\"\n",
        "        return data_string #[self.timer, self.speed, self.height]\n",
        "\n",
        "    def predict_height(self, dt):\n",
        "        '''Возвращает значение высоты\n",
        "        через заданный промежуток времени dt'''\n",
        "        g = self.g\n",
        "        return max(self.height + self.speed *dt - (g-self.thrust)*dt**2/2, 0)\n",
        "\n",
        "    def predict_speed(self, dt):\n",
        "        '''Возвращает значение скорости\n",
        "        через заданный промежуток времени dt\n",
        "        0 если робот к тому времени упадет'''\n",
        "        g = self.g\n",
        "        still_in_air = max(self.height + self.speed *dt - (g-self.thrust)*dt**2/2, 0)\n",
        "        if still_in_air:\n",
        "            return self.speed - (g-self.thrust)*dt\n",
        "        return 0\n",
        "\n",
        "\n",
        "#help(Robot)"
      ],
      "metadata": {
        "id": "azdU_JZOUTc7"
      },
      "execution_count": 10,
      "outputs": []
    },
    {
      "cell_type": "code",
      "execution_count": 9,
      "metadata": {
        "colab": {
          "base_uri": "https://localhost:8080/"
        },
        "id": "loSWHbS03KHr",
        "outputId": "0b0cd395-21f0-45c7-fef0-da6cafa9fbe5"
      },
      "outputs": [
        {
          "output_type": "stream",
          "name": "stdout",
          "text": [
            "timer =  0.50 speed =   44.1 height =   23.3\n",
            "timer =  1.00 speed =   39.2 height =   44.1\n",
            "timer =  1.50 speed =   34.3 height =   62.5\n",
            "timer =  2.00 speed =   29.4 height =   78.4\n",
            "timer =  2.50 speed =   24.5 height =   91.9\n",
            "timer =  3.00 speed =   19.6 height =  102.9\n",
            "timer =  3.50 speed =   14.7 height =  111.5\n",
            "timer =  4.00 speed =    9.8 height =  117.6\n",
            "timer =  4.50 speed =    4.9 height =  121.3\n",
            "timer =  5.00 speed =    0.0 height =  122.5\n",
            "timer =  5.50 speed =   -4.9 height =  121.3\n",
            "timer =  6.00 speed =   -9.8 height =  117.6\n",
            "timer =  6.50 speed =  -14.7 height =  111.5\n",
            "timer =  7.00 speed =  -19.6 height =  102.9\n",
            "timer =  7.50 speed =  -24.5 height =   91.9\n",
            "timer =  8.00 speed =  -29.4 height =   78.4\n",
            "timer =  8.50 speed =  -34.3 height =   62.5\n",
            "timer =  9.00 speed =  -39.2 height =   44.1\n",
            "timer =  9.50 speed =  -44.1 height =   23.3\n",
            "timer = 10.00 speed =  -49.0 height =    0.0\n",
            "timer = 10.50 speed =    0.0 height =    0.0\n"
          ]
        }
      ],
      "source": [
        "import time\n",
        "\n",
        "rocket = myRobot4( 9.8*5 )\n",
        "\n",
        "gap = 0.5 #sec\n",
        "#myTime = 0\n",
        "while not rocket.crash:\n",
        "    time.sleep( gap ) #sec\n",
        "    #myTime += gap\n",
        "    print( rocket.set(gap) )"
      ]
    }
  ]
}