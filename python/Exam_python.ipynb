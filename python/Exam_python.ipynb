{
  "nbformat": 4,
  "nbformat_minor": 0,
  "metadata": {
    "colab": {
      "provenance": [],
      "authorship_tag": "ABX9TyPlAuuLl85y9KC9EZsOcy1f",
      "include_colab_link": true
    },
    "kernelspec": {
      "name": "python3",
      "display_name": "Python 3"
    },
    "language_info": {
      "name": "python"
    }
  },
  "cells": [
    {
      "cell_type": "markdown",
      "metadata": {
        "id": "view-in-github",
        "colab_type": "text"
      },
      "source": [
        "<a href=\"https://colab.research.google.com/github/Aleksandra-Shukova/Ai-learning/blob/main/python/Exam_python.ipynb\" target=\"_parent\"><img src=\"https://colab.research.google.com/assets/colab-badge.svg\" alt=\"Open In Colab\"/></a>"
      ]
    },
    {
      "cell_type": "markdown",
      "source": [
        "Ai learning\n",
        "- python\n",
        " - exam 19.dec.2023\n",
        "\n",
        "Требуется определить,\n",
        "можно ли от шоколадки размером n × m\n",
        "отломить k долек, если разрешается сделать\n",
        "один разлом по прямой между дольками\n",
        "т.е. разломить шоколадку на два прямоугольника\n",
        "Вводятся 3 числа: n, m, k;\n",
        "k не равно n × m.\n",
        "Программа должна вывести слово YES,\n",
        "если возможно отломить,\n",
        "в противном случае NO."
      ],
      "metadata": {
        "id": "KZ1fX82XCkJ5"
      }
    },
    {
      "cell_type": "markdown",
      "source": [
        "My solution"
      ],
      "metadata": {
        "id": "JTTViA1ZD92l"
      }
    },
    {
      "cell_type": "code",
      "execution_count": 7,
      "metadata": {
        "colab": {
          "base_uri": "https://localhost:8080/"
        },
        "id": "RxdsK9M0-M0t",
        "outputId": "a594d7e5-3c6b-4cc6-e8e0-8782714874db"
      },
      "outputs": [
        {
          "output_type": "stream",
          "name": "stdout",
          "text": [
            "n=4\n",
            "m=6\n",
            "k=3\n",
            "NO\n"
          ]
        }
      ],
      "source": [
        "def can_break(n, m, k):\n",
        "    '''Требуется определить,\n",
        "можно ли от шоколадки размером n × m\n",
        "отломить k долек, если разрешается сделать\n",
        "один разлом по прямой между дольками\n",
        "т.е. разломить шоколадку на два прямоугольника\n",
        "Вводятся 3 числа: n, m, k;\n",
        "k не равно n × m.\n",
        "Программа должна вывести слово YES,\n",
        "если возможно отломить,\n",
        "в противном случае NO.'''\n",
        "\n",
        "    #(not A%B) return True if A multiples of B\n",
        "    # true если кратно\n",
        "    if not (n*m-k) % n:\n",
        "        return \"YES\"\n",
        "    if not (n*m-k) % m:\n",
        "        return \"YES\"\n",
        "    return \"NO\"\n",
        "\n",
        "n = int(input(\"n=\"))\n",
        "m = int(input(\"m=\"))\n",
        "k = int(input(\"k=\"))\n",
        "\n",
        "print(can_break(n, m, k))"
      ]
    },
    {
      "cell_type": "markdown",
      "source": [
        "Solution of openchat.team"
      ],
      "metadata": {
        "id": "icZHjClsDS2z"
      }
    },
    {
      "cell_type": "code",
      "source": [
        "def can_break(n, m, k):\n",
        "    for i in range(n + 1):\n",
        "        for j in range(m + 1):\n",
        "            if i * j == k or (i * j < k < (i + 1) * (j + 1) - i * j):\n",
        "                return \"YES\"\n",
        "    return \"NO\"\n",
        "\n",
        "def main():\n",
        "    n = int(input())\n",
        "    m = int(input())\n",
        "    k = int(input())\n",
        "\n",
        "    if n * m < k:\n",
        "        print(\"NO\")\n",
        "    else:\n",
        "        print(can_break(n, m, k))\n",
        "\n",
        "if __name__ == \"__main__\":\n",
        "    main()"
      ],
      "metadata": {
        "colab": {
          "base_uri": "https://localhost:8080/"
        },
        "id": "wp7drUdQDRcZ",
        "outputId": "03f209f4-1e96-45f8-d428-f989e9d3de8c"
      },
      "execution_count": 8,
      "outputs": [
        {
          "output_type": "stream",
          "name": "stdout",
          "text": [
            "4\n",
            "6\n",
            "20\n",
            "YES\n"
          ]
        }
      ]
    }
  ]
}