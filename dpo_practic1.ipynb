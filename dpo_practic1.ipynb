{
  "nbformat": 4,
  "nbformat_minor": 0,
  "metadata": {
    "colab": {
      "provenance": [],
      "authorship_tag": "ABX9TyPoy0NTGq4eaK5jeLDo8yOE",
      "include_colab_link": true
    },
    "kernelspec": {
      "name": "python3",
      "display_name": "Python 3"
    },
    "language_info": {
      "name": "python"
    }
  },
  "cells": [
    {
      "cell_type": "markdown",
      "metadata": {
        "id": "view-in-github",
        "colab_type": "text"
      },
      "source": [
        "<a href=\"https://colab.research.google.com/github/Aleksandra-Shukova/Ai-learning/blob/main/dpo_practic1.ipynb\" target=\"_parent\"><img src=\"https://colab.research.google.com/assets/colab-badge.svg\" alt=\"Open In Colab\"/></a>"
      ]
    },
    {
      "cell_type": "markdown",
      "source": [
        "# dz sem 1 #\n",
        "input int N and draw a tree out of symbols\n",
        "\n",
        "i decided to use 123 format"
      ],
      "metadata": {
        "id": "-Y5qinMgN7Yg"
      }
    },
    {
      "cell_type": "code",
      "source": [
        "\n",
        "N = int(input(\"N = \"))\n",
        "'''in for_i i starts with 0, so\n",
        "for_j doesnt initiate in range(0)\n",
        "So i had to add 1s'''\n",
        "for i in range(N+1):\n",
        "    for j in range(i):\n",
        "        #  dont \\n automatically\n",
        "        print(j+1, end=\"\")\n",
        "    #go to new row\n",
        "    print()\n",
        "print(\"end of programm\")"
      ],
      "metadata": {
        "colab": {
          "base_uri": "https://localhost:8080/"
        },
        "id": "cQd2_B2_Nq7s",
        "outputId": "b35cd306-5183-41b3-f621-c182005b4861"
      },
      "execution_count": 2,
      "outputs": [
        {
          "output_type": "stream",
          "name": "stdout",
          "text": [
            "N = 5\n",
            "\n",
            "1\n",
            "12\n",
            "123\n",
            "1234\n",
            "12345\n",
            "end of programm\n"
          ]
        }
      ]
    }
  ]
}