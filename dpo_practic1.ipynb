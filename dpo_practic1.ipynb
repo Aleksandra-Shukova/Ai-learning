{
  "nbformat": 4,
  "nbformat_minor": 0,
  "metadata": {
    "colab": {
      "provenance": [],
      "authorship_tag": "ABX9TyME8MKXuDCZE7DNZ+T67eIJ",
      "include_colab_link": true
    },
    "kernelspec": {
      "name": "python3",
      "display_name": "Python 3"
    },
    "language_info": {
      "name": "python"
    }
  },
  "cells": [
    {
      "cell_type": "markdown",
      "metadata": {
        "id": "view-in-github",
        "colab_type": "text"
      },
      "source": [
        "<a href=\"https://colab.research.google.com/github/Aleksandra-Shukova/Ai-learning/blob/main/dpo_practic1.ipynb\" target=\"_parent\"><img src=\"https://colab.research.google.com/assets/colab-badge.svg\" alt=\"Open In Colab\"/></a>"
      ]
    },
    {
      "cell_type": "code",
      "execution_count": 6,
      "metadata": {
        "colab": {
          "base_uri": "https://localhost:8080/"
        },
        "id": "AHE44MfGol8i",
        "outputId": "4e9cd0a4-b1e3-4f46-b39b-8e725081d6e3"
      },
      "outputs": [
        {
          "output_type": "stream",
          "name": "stdout",
          "text": [
            "dz sem 1\n",
            "input int N and draw a tree out of symbols\n",
            " i decided to use 123 format\n",
            "N = 3\n",
            "\n",
            "1\n",
            "12\n",
            "123\n",
            "end of programm\n"
          ]
        }
      ],
      "source": [
        "print(\"dz sem 1\")\n",
        "print(\"input int N and draw a tree out of symbols\\n i decided to use 123 format\")\n",
        "\n",
        "N = int(input(\"N = \"))\n",
        "'''in for_i i starts with 0, so\n",
        "for_j doesnt initiate in range(0)\n",
        "So i had to add 1s'''\n",
        "for i in range(N+1):\n",
        "    for j in range(i):\n",
        "        # <end=''> dont \\n automatically\n",
        "        print(j+1, end=\"\")\n",
        "    #go to new row\n",
        "    print()\n",
        "print(\"end of programm\")"
      ]
    }
  ]
}