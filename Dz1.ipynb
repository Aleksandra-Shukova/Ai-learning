{
  "nbformat": 4,
  "nbformat_minor": 0,
  "metadata": {
    "colab": {
      "provenance": [],
      "authorship_tag": "ABX9TyPMsPbU6NZYck79CLLewUZ4",
      "include_colab_link": true
    },
    "kernelspec": {
      "name": "python3",
      "display_name": "Python 3"
    },
    "language_info": {
      "name": "python"
    }
  },
  "cells": [
    {
      "cell_type": "markdown",
      "metadata": {
        "id": "view-in-github",
        "colab_type": "text"
      },
      "source": [
        "<a href=\"https://colab.research.google.com/github/Aleksandra-Shukova/Ai-learning/blob/main/Dz1.ipynb\" target=\"_parent\"><img src=\"https://colab.research.google.com/assets/colab-badge.svg\" alt=\"Open In Colab\"/></a>"
      ]
    },
    {
      "cell_type": "code",
      "execution_count": 14,
      "metadata": {
        "colab": {
          "base_uri": "https://localhost:8080/"
        },
        "id": "msQHiy3oo7k4",
        "outputId": "f9632260-d445-437e-8457-10323fe77549"
      },
      "outputs": [
        {
          "output_type": "stream",
          "name": "stdout",
          "text": [
            "compute something\n",
            "x1 = 4.56\n",
            "x2 = 7.8\n",
            "operation is +\n",
            "we got x1=4.6, x2=8, op=+\n",
            "x1 + x2 =  12.36\n"
          ]
        }
      ],
      "source": [
        "print(\"compute something\")\n",
        "x1 = float(input(\"x1 = \"))\n",
        "x2 = float(input(\"x2 = \"))\n",
        "#x1=4, x2=7\n",
        "operation = input(\"operation is \")\n",
        "print(\"we got x1=%.1f, x2=%.0f, op=%s\" % (x1,x2,operation))\n",
        "if operation == '+':\n",
        "    print(\"x1 + x2 = \", x1+x2)\n",
        "elif operation == '-':\n",
        "    print(\"x1 - x2 = \", x1-x2)\n",
        "else:\n",
        "    print(\"unknown operation\")"
      ]
    }
  ]
}