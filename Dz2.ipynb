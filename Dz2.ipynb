{
  "nbformat": 4,
  "nbformat_minor": 0,
  "metadata": {
    "colab": {
      "provenance": [],
      "authorship_tag": "ABX9TyOgzj7o0yvmlJoN/q6F37cq",
      "include_colab_link": true
    },
    "kernelspec": {
      "name": "python3",
      "display_name": "Python 3"
    },
    "language_info": {
      "name": "python"
    }
  },
  "cells": [
    {
      "cell_type": "markdown",
      "metadata": {
        "id": "view-in-github",
        "colab_type": "text"
      },
      "source": [
        "<a href=\"https://colab.research.google.com/github/Aleksandra-Shukova/Ai-learning/blob/main/Dz2.ipynb\" target=\"_parent\"><img src=\"https://colab.research.google.com/assets/colab-badge.svg\" alt=\"Open In Colab\"/></a>"
      ]
    },
    {
      "cell_type": "code",
      "execution_count": 36,
      "metadata": {
        "id": "wZLwPbm-rFje",
        "colab": {
          "base_uri": "https://localhost:8080/"
        },
        "outputId": "71b9046d-65c3-4393-a2ac-faec2c60af7d"
      },
      "outputs": [
        {
          "output_type": "stream",
          "name": "stdout",
          "text": [
            "lections 3,4\n",
            "Create function that calculate\n",
            "Gistorgamm 0.0_0.1 ...0.9_1.0\n",
            "For 1e6 random numbers,\n",
            "And use \"timeit\" to estimate it's time\n",
            "Print fastest, average, slowest time\n",
            "\n",
            "fastest time =  1.2620976279995375\n",
            "average time =  1.4761474536899826\n",
            "slowest time =  2.7657500909999726\n",
            "end of programm\n"
          ]
        }
      ],
      "source": [
        "\n",
        "print('''lections 3,4\n",
        "Create function that calculate\n",
        "Gistorgamm 0.0_0.1 ...0.9_1.0\n",
        "For 1e6 random numbers,\n",
        "And use \"timeit\" to estimate it's time\n",
        "Print fastest, average, slowest time\n",
        "''')\n",
        "\n",
        "import numpy as np\n",
        "import timeit\n",
        "\n",
        "# what func will i check:\n",
        "def gist():\n",
        "    # xGist = [0,0,0,0,0,0,0,0,0,0]\n",
        "    xGist = [0]*10\n",
        "    # 1e3 = 1000.0 it is float\n",
        "    # range() works with int\n",
        "    for j in range( int(1e6) ):\n",
        "        xR = np.random.rand()\n",
        "        # if xR < 0.1: xGist[1]+=1 elif...\n",
        "        i = 0\n",
        "        while i<10:\n",
        "            if xR < (i+1)/10:\n",
        "                xGist[i] += 1\n",
        "                i = 10\n",
        "            i += 1\n",
        "    #print(\"xR = \", xR)\n",
        "    print(\"xGist =\\n\", xGist)\n",
        "# it perfectly works as intended:\n",
        "#Gist = [0]*10\n",
        "#print(\"len(Gist) = \", len(Gist))\n",
        "#gist()\n",
        "#print(1e6)\n",
        "\n",
        "# mambo-jambo to use timeit:\n",
        "\n",
        "#what it execute 1 time\n",
        "\n",
        "mysetup = '''\n",
        "import numpy as np\n",
        "def gist():\n",
        "    #xGist = [0,0,0,0,0,0,0,0,0,0]\n",
        "    xGist = [0]*10\n",
        "    # 1e3 = 1000.0 it is float\n",
        "    # range() works with int\n",
        "    for j in range( int(1e6) ):\n",
        "        xR = np.random.rand()\n",
        "        #if xR < 0.1: xGist[1]+=1 elif...\n",
        "        i = 0\n",
        "        while i<10:\n",
        "            if xR < (i+1)/10.0:\n",
        "                xGist[i] += 1\n",
        "                i = 10\n",
        "            i += 1'''\n",
        "\n",
        "# what it execute many times\n",
        "mycode = '''gist()'''\n",
        "\n",
        "# how many times\n",
        "Ntimes = 1\n",
        "'''\n",
        "# it perfectly works as intended:\n",
        "print( \"time[sec]= \",\n",
        "    timeit.timeit(\n",
        "    setup = mysetup,\n",
        "    stmt = mycode,\n",
        "    number = Ntimes) )\n",
        "'''\n",
        "\n",
        "# estimate times\n",
        "slowest_time = 0\n",
        "fastest_time = 1e6 #too big to be true\n",
        "average_time = 0\n",
        "Mtimes = 100\n",
        "for i in range(Mtimes):\n",
        "    buff = timeit.timeit(\n",
        "        setup = mysetup,\n",
        "        stmt = mycode,\n",
        "        number = Ntimes)\n",
        "    if buff > slowest_time:\n",
        "        slowest_time = buff\n",
        "    if buff < fastest_time:\n",
        "        fastest_time = buff\n",
        "    average_time += buff/Mtimes\n",
        "print(\"fastest time = \", fastest_time)\n",
        "print(\"average time = \", average_time)\n",
        "print(\"slowest time = \", slowest_time)\n",
        "\n",
        "print(\"end of programm\")\n",
        "\n",
        "# by the way random numbers work too\n",
        "# it returns 0.0...1.0\n",
        "#print(\"rand() = \", np.random.rand(2) )"
      ]
    }
  ]
}